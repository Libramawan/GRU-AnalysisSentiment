{
  "nbformat": 4,
  "nbformat_minor": 0,
  "metadata": {
    "colab": {
      "name": "Skrapp.ipynb",
      "provenance": []
    },
    "kernelspec": {
      "name": "python3",
      "display_name": "Python 3"
    },
    "language_info": {
      "name": "python"
    }
  },
  "cells": [
    {
      "cell_type": "code",
      "metadata": {
        "colab": {
          "base_uri": "https://localhost:8080/"
        },
        "id": "-3BPsbgJfLVO",
        "outputId": "1ca1806e-1c77-45ad-8cb5-8d8a4d3a1171"
      },
      "source": [
        "# install google-play-scrapper\n",
        "!pip install -qq google-play-scraper"
      ],
      "execution_count": 1,
      "outputs": [
        {
          "output_type": "stream",
          "name": "stdout",
          "text": [
            "\u001b[?25l\r\u001b[K     |██████▏                         | 10 kB 25.5 MB/s eta 0:00:01\r\u001b[K     |████████████▍                   | 20 kB 28.3 MB/s eta 0:00:01\r\u001b[K     |██████████████████▋             | 30 kB 33.1 MB/s eta 0:00:01\r\u001b[K     |████████████████████████▉       | 40 kB 21.2 MB/s eta 0:00:01\r\u001b[K     |███████████████████████████████ | 51 kB 9.6 MB/s eta 0:00:01\r\u001b[K     |████████████████████████████████| 52 kB 1.2 MB/s \n",
            "\u001b[?25h  Building wheel for google-play-scraper (setup.py) ... \u001b[?25l\u001b[?25hdone\n"
          ]
        }
      ]
    },
    {
      "cell_type": "code",
      "metadata": {
        "id": "v4yIE8b1fZAW"
      },
      "source": [
        "# Import pandas for manipulating data\n",
        "# google_play_scrapper for collecting data\n",
        "import pandas as pd\n",
        "from google_play_scraper import Sort, reviews, app"
      ],
      "execution_count": 2,
      "outputs": []
    },
    {
      "cell_type": "code",
      "metadata": {
        "id": "pwP7Tl0HfaVS"
      },
      "source": [
        "# declare the application for data collecting\n",
        "app_packages = [\n",
        "  'com.shopee.id',\n",
        "]"
      ],
      "execution_count": 3,
      "outputs": []
    },
    {
      "cell_type": "code",
      "metadata": {
        "id": "oRhrEYdIfbey"
      },
      "source": [
        "# create an empty array for storing the data\n",
        "app_infos = []\n",
        "\n",
        "# loop the application (if there's multiple) from app_packages\n",
        "for ap in app_packages:\n",
        "  # declare the application, language, and country for data collecting\n",
        "  info = app(ap, lang='id', country='id')\n",
        "  # delete comments from info\n",
        "  del info['comments']\n",
        "  # append info to app_info \n",
        "  app_infos.append(info)"
      ],
      "execution_count": 4,
      "outputs": []
    },
    {
      "cell_type": "code",
      "metadata": {
        "id": "OrkHb1yZfg9j"
      },
      "source": [
        "# declare the dataframe\n",
        "app_infos_df = pd.DataFrame(app_infos)\n",
        "# convert dataframe to csv\n",
        "app_infos_df.to_csv('apps.csv', index=None, header=True)"
      ],
      "execution_count": 5,
      "outputs": []
    },
    {
      "cell_type": "code",
      "metadata": {
        "id": "qiBRbag_fiGW"
      },
      "source": [
        "# create an empty array for storing the data\n",
        "app_reviews = []\n",
        "\n",
        "# loop the application from app_packages\n",
        "for ap in app_packages:\n",
        "  # loop the rating range\n",
        "  for score in list(range(1, 6)):\n",
        "    # loop the sort order\n",
        "    for sort_order in [Sort.MOST_RELEVANT, Sort.NEWEST]:\n",
        "      # declare the variable for collecting the data\n",
        "      rvs, _ = reviews(\n",
        "        ap,\n",
        "        lang='id',\n",
        "        country='id',\n",
        "        sort=sort_order,\n",
        "        count= 0 if score == 3 else 100,\n",
        "        filter_score_with=score\n",
        "      )\n",
        "\n",
        "      # change the name of sort order data to 'most_relevant' and 'newest'\n",
        "      for r in rvs:\n",
        "        r['sortOrder'] = 'most_relevant' if sort_order == Sort.MOST_RELEVANT else 'newest'\n",
        "        r['appId'] = ap\n",
        "      # append the collected data to app_reviews\n",
        "      app_reviews.extend(rvs)"
      ],
      "execution_count": 6,
      "outputs": []
    },
    {
      "cell_type": "code",
      "metadata": {
        "colab": {
          "base_uri": "https://localhost:8080/"
        },
        "id": "qDn3umiSfjou",
        "outputId": "98e5bf3a-9630-4cbf-f7f5-948acf681cb4"
      },
      "source": [
        "# get the length of app_reviews\n",
        "len(app_reviews)"
      ],
      "execution_count": 7,
      "outputs": [
        {
          "output_type": "execute_result",
          "data": {
            "text/plain": [
              "800"
            ]
          },
          "metadata": {},
          "execution_count": 7
        }
      ]
    },
    {
      "cell_type": "code",
      "metadata": {
        "id": "21tHqII6fkuB"
      },
      "source": [
        "# declare app_reviews dataframe\n",
        "app_reviews_df = pd.DataFrame(app_reviews)\n",
        "# convert dataframe to csv\n",
        "app_reviews_df.to_csv('reviews.csv', index=None, header=True)"
      ],
      "execution_count": 8,
      "outputs": []
    }
  ]
}